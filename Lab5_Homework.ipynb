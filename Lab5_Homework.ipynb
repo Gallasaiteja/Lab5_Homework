{
  "nbformat": 4,
  "nbformat_minor": 0,
  "metadata": {
    "colab": {
      "name": "Lab5_Homework.ipynb",
      "provenance": [],
      "collapsed_sections": []
    },
    "kernelspec": {
      "name": "python3",
      "display_name": "Python 3"
    }
  },
  "cells": [
    {
      "cell_type": "code",
      "metadata": {
        "id": "Mmh7wuzEKkNA",
        "colab_type": "code",
        "outputId": "daa597f9-1767-4e85-8dcb-10bea900a6a5",
        "colab": {
          "base_uri": "https://localhost:8080/",
          "height": 34
        }
      },
      "source": [
        "#task-1\n",
        "import math\n",
        "class point():\n",
        "\n",
        "  pass\n",
        "\n",
        "first_point = point()\n",
        "second_point = point()\n",
        "first_point.x,first_point.y= 6.0,2.0\n",
        "second_point.x,second_point.y=10.0,8.0 \n",
        "\n",
        "def distance_between_points(a1,a2):\n",
        "    \n",
        "    difference_x=a2.x-a1.x\n",
        "    difference_y=a2.y-a1.y\n",
        "    return math.sqrt(difference_x**2 + difference_y**2)\n",
        "\n",
        "print(distance_between_points(first_point,second_point))"
      ],
      "execution_count": 0,
      "outputs": [
        {
          "output_type": "stream",
          "text": [
            "7.211102550927978\n"
          ],
          "name": "stdout"
        }
      ]
    },
    {
      "cell_type": "code",
      "metadata": {
        "id": "eGifXnzja2SG",
        "colab_type": "code",
        "colab": {}
      },
      "source": [
        "import turtle\n",
        "import copy\n",
        "from sample1 import point\n",
        "turtle.pen(fillcolor=\"black\", pencolor=\"red\", pensize=10)\n",
        "\n",
        "class rectangle():\n",
        "    \"\"\"Represents a rectangle.\n",
        "       attributes: width, height, corner.\n",
        "    \"\"\"\n",
        "def find_center(r):\n",
        "    \"\"\"Find the center of a rectangle\n",
        "\n",
        "        r: Rectangle object.\n",
        "        \n",
        "        returns: center coordinates\n",
        "    \"\"\"\n",
        "    cx=r.corner.x+(r.width/2)\n",
        "    cy=r.corner.y+(r.height/2)\n",
        "    return cx,cy\n",
        "\n",
        "def move_rectangle(r,dx,dy):\n",
        "    \"\"\"it gives the modified object \n",
        "    of the rectangle\n",
        "        \"\"\"\n",
        "\n",
        "    r.corner.x=r.corner.x+dx\n",
        "    r.corner.y=r.corner.y+dy\n",
        "    turtle.setx(r.corner.x)\n",
        "    turtle.sety(r.corner.y)\n",
        "    for i in range(2):\n",
        "        turtle.fd(r.width)\n",
        "        turtle.lt(90)\n",
        "        turtle.fd(r.height)\n",
        "        turtle.lt(90)\n",
        "    return r\n",
        "\n",
        "def move_rectangle1(r,dx,dy):\n",
        "    \"\"\"it gives the values of new rectangle\n",
        "        \"\"\"\n",
        "    new = copy.deepcopy(r)\n",
        "    move_rectangle(new, dx, dy)\n",
        "\n",
        "    return new\n",
        "\n",
        "\n"
      ],
      "execution_count": 0,
      "outputs": []
    },
    {
      "cell_type": "code",
      "metadata": {
        "id": "OyFHhUw0dtOP",
        "colab_type": "code",
        "colab": {
          "base_uri": "https://localhost:8080/",
          "height": 51
        },
        "outputId": "2481efd9-8e2a-40dc-cd3b-2afb07d74e92"
      },
      "source": [
        "class Point():\n",
        "    def __init__(self,x,y):\n",
        "        self.x=x\n",
        "        self.y=y\n",
        "    def __str__(self):\n",
        "        print( '(%d,%d)' % (self.x,self.y))\n",
        "   \n",
        "    \n",
        "    def __add__(self):\n",
        "        print( self.x + self.y)\n",
        "           \n",
        "p=Point(10,5)\n",
        "d=Point(8,3)\n",
        "p.__str__()\n",
        "d.__add__()"
      ],
      "execution_count": 2,
      "outputs": [
        {
          "output_type": "stream",
          "text": [
            "(10,5)\n",
            "11\n"
          ],
          "name": "stdout"
        }
      ]
    },
    {
      "cell_type": "code",
      "metadata": {
        "id": "ftqY6R57f46x",
        "colab_type": "code",
        "colab": {
          "base_uri": "https://localhost:8080/",
          "height": 34
        },
        "outputId": "2dbdb724-690b-49ac-e9ae-8776bdd18735"
      },
      "source": [
        "class time:\n",
        "    \"\"\"considering time here\n",
        "    \"\"\"\n",
        "def print_time(t):\n",
        "    \n",
        "    print(\"Time is %.2d:%.2d:%.2d\"%(t.hr,t.min,t.sec))\n",
        "\n",
        "def main():\n",
        "    t=time()\n",
        "    t.hr=23\n",
        "    t.min=10\n",
        "    t.sec=2\n",
        "    print_time(t)\n",
        "\n",
        "if __name__ == '__main__':\n",
        "    main()"
      ],
      "execution_count": 3,
      "outputs": [
        {
          "output_type": "stream",
          "text": [
            "Time is 23:10:02\n"
          ],
          "name": "stdout"
        }
      ]
    },
    {
      "cell_type": "code",
      "metadata": {
        "id": "05h7u5Ltgu53",
        "colab_type": "code",
        "colab": {
          "base_uri": "https://localhost:8080/",
          "height": 51
        },
        "outputId": "7e0ada4f-5d6f-4977-c775-9097b3669f50"
      },
      "source": [
        "class kangaroo:\n",
        "    def __init__(self):\n",
        "        self.pouch_contents=[]\n",
        "    def put_in_pouch(self,other):\n",
        "        if(isinstance(other,kangaroo)):\n",
        "            self.pouch_contents.append(other.pouch_contents)\n",
        "        else:\n",
        "            self.pouch_contents.append(other)\n",
        "    def __str__(self):\n",
        "        return str(self.pouch_contents)\n",
        "\n",
        "def main():\n",
        "    kanga=kangaroo()\n",
        "    roo=kangaroo()\n",
        "    kanga.put_in_pouch(\"watermelon\")\n",
        "    kanga.put_in_pouch(1)\n",
        "    roo.put_in_pouch(\"kiwi\")\n",
        "    kanga.put_in_pouch(roo)\n",
        "    print(kanga)\n",
        "    print(roo)\n",
        "\n",
        "if __name__ == '__main__':\n",
        "    main()"
      ],
      "execution_count": 4,
      "outputs": [
        {
          "output_type": "stream",
          "text": [
            "['watermelon', 1, ['kiwi']]\n",
            "['kiwi']\n"
          ],
          "name": "stdout"
        }
      ]
    }
  ]
}