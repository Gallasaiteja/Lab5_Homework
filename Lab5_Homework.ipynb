{
  "nbformat": 4,
  "nbformat_minor": 0,
  "metadata": {
    "colab": {
      "name": "Lab5_Homework.ipynb",
      "provenance": [],
      "collapsed_sections": []
    },
    "kernelspec": {
      "name": "python3",
      "display_name": "Python 3"
    }
  },
  "cells": [
    {
      "cell_type": "code",
      "metadata": {
        "id": "Mmh7wuzEKkNA",
        "colab_type": "code",
        "colab": {
          "base_uri": "https://localhost:8080/",
          "height": 34
        },
        "outputId": "daa597f9-1767-4e85-8dcb-10bea900a6a5"
      },
      "source": [
        "#task-1\n",
        "import math\n",
        "class point():\n",
        "\n",
        "  pass\n",
        "\n",
        "first_point = point()\n",
        "second_point = point()\n",
        "first_point.x,first_point.y= 6.0,2.0\n",
        "second_point.x,second_point.y=10.0,8.0 \n",
        "\n",
        "def distance_between_points(a1,a2):\n",
        "    \n",
        "    difference_x=a2.x-a1.x\n",
        "    difference_y=a2.y-a1.y\n",
        "    return math.sqrt(difference_x**2 + difference_y**2)\n",
        "\n",
        "print(distance_between_points(first_point,second_point))"
      ],
      "execution_count": 3,
      "outputs": [
        {
          "output_type": "stream",
          "text": [
            "7.211102550927978\n"
          ],
          "name": "stdout"
        }
      ]
    }
  ]
}